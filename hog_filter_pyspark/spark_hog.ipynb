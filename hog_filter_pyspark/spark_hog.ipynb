{
 "cells": [
  {
   "cell_type": "code",
   "execution_count": 1,
   "id": "7de91d53-14b3-4816-b187-828ecbed90c1",
   "metadata": {},
   "outputs": [
    {
     "name": "stderr",
     "output_type": "stream",
     "text": [
      "Setting default log level to \"WARN\".\n",
      "To adjust logging level use sc.setLogLevel(newLevel). For SparkR, use setLogLevel(newLevel).\n"
     ]
    },
    {
     "name": "stdout",
     "output_type": "stream",
     "text": [
      "22/12/15 15:51:42 WARN NativeCodeLoader: Unable to load native-hadoop library for your platform... using builtin-java classes where applicable\n"
     ]
    },
    {
     "name": "stderr",
     "output_type": "stream",
     "text": [
      "/opt/conda/envs/bigdata-fall22/lib/python3.7/site-packages/pyspark/sql/context.py:159: FutureWarning: Deprecated in 3.0.0. Use SparkSession.builder.getOrCreate() instead.\n",
      "  FutureWarning,\n"
     ]
    }
   ],
   "source": [
    "import os\n",
    "\n",
    "import numpy as np\n",
    "from scipy.spatial.distance import cosine\n",
    "\n",
    "import pandas as pd\n",
    "\n",
    "import pyspark\n",
    "\n",
    "from hog_utils import extract_features\n",
    "\n",
    "conf = pyspark.SparkConf()\n",
    "conf.set('spark.ui.proxyBase', '/user/' + os.environ['JUPYTERHUB_USER'] + '/proxy/4041')\n",
    "conf.set('spark.sql.repl.eagerEval.enabled', True)\n",
    "conf.set('spark.driver.memory','8g')\n",
    "\n",
    "sc = pyspark.SparkContext(conf=conf)\n",
    "spark = pyspark.SQLContext.getOrCreate(sc)"
   ]
  },
  {
   "cell_type": "code",
   "execution_count": 2,
   "id": "7793668e-75e3-4268-87bc-19137f07452b",
   "metadata": {
    "scrolled": true,
    "tags": []
   },
   "outputs": [],
   "source": [
    "# get the list of images\n",
    "img_list = sc.parallelize([file.path for file in os.scandir('images/')])\n",
    "\n",
    "# calculate their HOG features\n",
    "hogs = img_list.map(extract_features)\n",
    "\n",
    "# zip names along to recognize the results\n",
    "hogs = hogs.zip(img_list)"
   ]
  },
  {
   "cell_type": "code",
   "execution_count": 3,
   "id": "0270f3b3-07f4-47b3-bfb4-a7ec7baacc8d",
   "metadata": {
    "scrolled": true,
    "tags": []
   },
   "outputs": [],
   "source": [
    "# select the image for testing\n",
    "test_img_name = \"road0.png\"\n",
    "test_hog = sc.parallelize([extract_features(test_img_name)])"
   ]
  },
  {
   "cell_type": "code",
   "execution_count": 4,
   "id": "d5dcc8f5-da23-4f02-b495-1b3dc65de716",
   "metadata": {},
   "outputs": [],
   "source": [
    "# get a pair of (test_img, img) for each img in the corpus\n",
    "prod_vec = hogs.cartesian(test_hog)\n",
    "\n",
    "# compute cosine similarity on each pair while preserving the img names\n",
    "sims = prod_vec.map(lambda x: (cosine(x[0][0], x[1]), x[0][1]))"
   ]
  },
  {
   "cell_type": "code",
   "execution_count": 5,
   "id": "1c081857-9dba-4177-845d-3224a83d8877",
   "metadata": {
    "scrolled": true,
    "tags": []
   },
   "outputs": [
    {
     "name": "stdout",
     "output_type": "stream",
     "text": [
      "22/12/15 15:52:02 WARN TaskSetManager: Stage 0 contains a task of very large size (2061 KiB). The maximum recommended task size is 1000 KiB.\n"
     ]
    },
    {
     "name": "stderr",
     "output_type": "stream",
     "text": [
      "                                                                                \r"
     ]
    },
    {
     "data": {
      "text/plain": [
       "[(0.9270216098937593, 'images/road47.png'),\n",
       " (0.9092798967338858, 'images/road155.png'),\n",
       " (0.9020340883294123, 'images/road529.png'),\n",
       " (0.901370899288721, 'images/road81.png'),\n",
       " (0.899622166973055, 'images/road39.png')]"
      ]
     },
     "execution_count": 5,
     "metadata": {},
     "output_type": "execute_result"
    }
   ],
   "source": [
    "# take top 5 sorted descending by similarity \n",
    "top5 = sims.takeOrdered(5, key=lambda x: -x[0])\n",
    "top5"
   ]
  },
  {
   "cell_type": "code",
   "execution_count": null,
   "id": "ebf87e58-1b22-4ae0-a417-a30550057f88",
   "metadata": {},
   "outputs": [],
   "source": []
  }
 ],
 "metadata": {
  "kernelspec": {
   "display_name": "Python [conda env:bigdata-fall22]",
   "language": "python",
   "name": "conda-env-bigdata-fall22-py"
  },
  "language_info": {
   "codemirror_mode": {
    "name": "ipython",
    "version": 3
   },
   "file_extension": ".py",
   "mimetype": "text/x-python",
   "name": "python",
   "nbconvert_exporter": "python",
   "pygments_lexer": "ipython3",
   "version": "3.7.12"
  }
 },
 "nbformat": 4,
 "nbformat_minor": 5
}
